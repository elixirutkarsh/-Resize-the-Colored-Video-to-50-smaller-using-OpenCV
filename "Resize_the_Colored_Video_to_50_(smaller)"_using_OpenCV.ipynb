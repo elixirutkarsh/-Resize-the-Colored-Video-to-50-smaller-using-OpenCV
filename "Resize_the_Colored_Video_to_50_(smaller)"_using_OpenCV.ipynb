{
  "nbformat": 4,
  "nbformat_minor": 0,
  "metadata": {
    "colab": {
      "provenance": [],
      "authorship_tag": "ABX9TyNWrHgC4xd23itwHvkzgdmV",
      "include_colab_link": true
    },
    "kernelspec": {
      "name": "python3",
      "display_name": "Python 3"
    },
    "language_info": {
      "name": "python"
    }
  },
  "cells": [
    {
      "cell_type": "markdown",
      "metadata": {
        "id": "view-in-github",
        "colab_type": "text"
      },
      "source": [
        "<a href=\"https://colab.research.google.com/github/elixirutkarsh/-Resize-the-Colored-Video-to-50-smaller-using-OpenCV/blob/main/%22Resize_the_Colored_Video_to_50_(smaller)%22_using_OpenCV.ipynb\" target=\"_parent\"><img src=\"https://colab.research.google.com/assets/colab-badge.svg\" alt=\"Open In Colab\"/></a>"
      ]
    },
    {
      "cell_type": "code",
      "execution_count": null,
      "metadata": {
        "id": "OnBgbTMCMKVt"
      },
      "outputs": [],
      "source": [
        "from google.colab import drive\n",
        "drive.mount('/content/drive')\n",
        "import cv2\n",
        "import os\n",
        "from google.colab.patches import cv2_imshow\n",
        "\n",
        "# Specify the video paths\n",
        "input_video_path = '/content/drive/MyDrive/input/Metal_Wind_Chimes_at_Sunset.mp4'  # Replace with the path to your input video file\n",
        "output_video_path = '/content/drive/MyDrive/output/Metal_Wind_Chimes_at_Sunset_resized.mp4'  # Replace with the desired output path\n",
        "\n",
        "# Open the video file\n",
        "video_capture = cv2.VideoCapture(input_video_path)\n",
        "\n",
        "# Get the original video's width, height, and frames per second (fps)\n",
        "width = int(video_capture.get(cv2.CAP_PROP_FRAME_WIDTH))\n",
        "height = int(video_capture.get(cv2.CAP_PROP_FRAME_HEIGHT))\n",
        "fps = video_capture.get(cv2.CAP_PROP_FPS)\n",
        "\n",
        "# Calculate the new width and height for resizing\n",
        "new_width = int(width * 0.5)\n",
        "new_height = int(height * 0.5)\n",
        "\n",
        "# Create a VideoWriter object to save the resized video\n",
        "fourcc = cv2.VideoWriter_fourcc(*\"mp4v\")\n",
        "output_video = cv2.VideoWriter(output_video_path, fourcc, fps, (new_width, new_height))\n",
        "\n",
        "# Process each frame of the video\n",
        "while True:\n",
        "    # Read the next frame\n",
        "    ret, frame = video_capture.read()\n",
        "\n",
        "    # If the frame was not read successfully, the video has ended\n",
        "    if not ret:\n",
        "        break\n",
        "\n",
        "    # Resize the frame to 50% of the original size\n",
        "    resized_frame = cv2.resize(frame, (new_width, new_height))\n",
        "\n",
        "    # Write the resized frame to the output video file\n",
        "    output_video.write(resized_frame)\n",
        "\n",
        "    # Display the resized frame\n",
        "    cv2_imshow(resized_frame)\n",
        "\n",
        "    # Press 'q' to stop the video processing\n",
        "    if cv2.waitKey(1) & 0xFF == ord('q'):\n",
        "        break\n",
        "\n",
        "# Release the video capture and video writer objects\n",
        "video_capture.release()\n",
        "output_video.release()\n",
        "\n",
        "print(\"Video resizing completed.\")\n"
      ]
    }
  ]
}